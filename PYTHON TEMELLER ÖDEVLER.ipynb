{
 "cells": [
  {
   "cell_type": "markdown",
   "metadata": {},
   "source": [
    "# SORU:1 "
   ]
  },
  {
   "cell_type": "code",
   "execution_count": 16,
   "metadata": {},
   "outputs": [
    {
     "name": "stdout",
     "output_type": "stream",
     "text": [
      "Bir hafta sonraki param: 12799.845348881212 TL\n",
      "dolar karşılıgı        : 2210.6814074060812 USD\n"
     ]
    }
   ],
   "source": [
    "Bitcoin_Tutar=1000\n",
    "DOLAR_TL     =5.79\n",
    "Faiz         =1.12\n",
    "Vade         =7\n",
    "print(\"Bir hafta sonraki param:\",Bitcoin_Tutar*DOLAR_TL*Faiz**Vade , \"TL\")\n",
    "print(\"dolar karşılıgı        :\" , Bitcoin_Tutar*Faiz**Vade, \"USD\" )\n",
    "\n"
   ]
  },
  {
   "cell_type": "markdown",
   "metadata": {},
   "source": [
    "# SORU:2"
   ]
  },
  {
   "cell_type": "markdown",
   "metadata": {},
   "source": [
    "## 1.ÇÖZÜM"
   ]
  },
  {
   "cell_type": "code",
   "execution_count": 13,
   "metadata": {},
   "outputs": [
    {
     "name": "stdout",
     "output_type": "stream",
     "text": [
      "Hafta başında 1000 dolarlık bitcoin aldığımızda günde ortalama %12 kazançla, bir hafta sonunda 1210.68 dolar kazanırdık.\n"
     ]
    }
   ],
   "source": [
    "X=1000\n",
    "Y=12\n",
    "Z=1210.68\n",
    "Metin=\"Hafta başında {} dolarlık bitcoin aldığımızda günde ortalama %{} kazançla, bir hafta sonunda {} dolar kazanırdık.\"\n",
    "print(Metin.format(X,Y,Z))"
   ]
  },
  {
   "cell_type": "markdown",
   "metadata": {},
   "source": [
    "## 2.ÇÖZÜM"
   ]
  },
  {
   "cell_type": "code",
   "execution_count": 15,
   "metadata": {},
   "outputs": [
    {
     "name": "stdout",
     "output_type": "stream",
     "text": [
      "Hafta başında 1000 dolarlık bitcoin aldığımızda günlük ortalama % 12 kazançla, \n",
      "\n",
      "bir hafta sonunda 1210.68 dolar kazanırdık.\n"
     ]
    }
   ],
   "source": [
    "X=1000\n",
    "Y=12\n",
    "Z=1210.68\n",
    "print(\"Hafta başında\",X,\"dolarlık bitcoin aldığımızda günlük ortalama %\",Y,\"kazançla,\",\"\\n\")\n",
    "print(\"bir hafta sonunda\",Z,\"dolar kazanırdık.\")"
   ]
  },
  {
   "cell_type": "markdown",
   "metadata": {},
   "source": [
    "# SORU:3"
   ]
  },
  {
   "cell_type": "code",
   "execution_count": 18,
   "metadata": {},
   "outputs": [
    {
     "name": "stdout",
     "output_type": "stream",
     "text": [
      "DOSYA ADI:data\n",
      "data.py\n"
     ]
    }
   ],
   "source": [
    "X     = input(\"DOSYA ADI:\")\n",
    "Uzantı= \".py\"\n",
    "print (X+Uzantı)"
   ]
  },
  {
   "cell_type": "code",
   "execution_count": null,
   "metadata": {},
   "outputs": [],
   "source": []
  }
 ],
 "metadata": {
  "kernelspec": {
   "display_name": "Python 3",
   "language": "python",
   "name": "python3"
  },
  "language_info": {
   "codemirror_mode": {
    "name": "ipython",
    "version": 3
   },
   "file_extension": ".py",
   "mimetype": "text/x-python",
   "name": "python",
   "nbconvert_exporter": "python",
   "pygments_lexer": "ipython3",
   "version": "3.7.4"
  }
 },
 "nbformat": 4,
 "nbformat_minor": 2
}
